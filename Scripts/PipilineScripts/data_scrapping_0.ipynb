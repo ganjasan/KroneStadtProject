{
 "cells": [
  {
   "cell_type": "code",
   "execution_count": 2,
   "metadata": {
    "collapsed": true
   },
   "outputs": [],
   "source": [
    "import pandas as pd\n",
    "import vk\n",
    "\n",
    "pd.set_option('display.max_columns', 500)\n",
    "%matplotlib inline"
   ]
  },
  {
   "cell_type": "code",
   "execution_count": null,
   "metadata": {
    "collapsed": true
   },
   "outputs": [],
   "source": [
    "#logger\n",
    "#TODO дополнительно писать лог в файл\n",
    "#Вывести в отдельный модуль\n",
    "def log_progress(sequence, every=None, size=None):\n",
    "    from ipywidgets import IntProgress, HTML, VBox\n",
    "    from IPython.display import display\n",
    "    \n",
    "    is_iterator = False\n",
    "    if size is None:\n",
    "        try:\n",
    "            size = len(sequence)\n",
    "        except TypeError:\n",
    "            is_iterator = True\n",
    "    if size is not None:\n",
    "        if every is None:\n",
    "            if size <= 200:\n",
    "                every = 1\n",
    "            else:\n",
    "                every = size / 200     # every 0.5%\n",
    "    else:\n",
    "        assert every is not None, 'sequence is iterator, set every'\n",
    "\n",
    "    if is_iterator:\n",
    "        progress = IntProgress(min=0, max=1, value=1)\n",
    "        progress.bar_style = 'info'\n",
    "    else:\n",
    "        progress = IntProgress(min=0, max=size, value=0)\n",
    "    label = HTML()\n",
    "    box = VBox(children=[label, progress])\n",
    "    display(box)\n",
    "    \n",
    "    index = 0\n",
    "    try:\n",
    "        for index, record in enumerate(sequence, 1):\n",
    "            \n",
    "            if index == 1 or index % every == 0:\n",
    "                if is_iterator:\n",
    "                    label.value = '{index} / ?'.format(index=index)\n",
    "                else:\n",
    "                    progress.value = index\n",
    "                    label.value = u'{index} / {size}'.format(\n",
    "                        index=index,\n",
    "                        size=size\n",
    "                    )\n",
    "            yield record\n",
    "    except:\n",
    "        progress.bar_style = 'danger'\n",
    "        raise\n",
    "    else:\n",
    "        progress.bar_style = 'success'\n",
    "        progress.value = index\n",
    "        label.value = str(index or '?')"
   ]
  },
  {
   "cell_type": "code",
   "execution_count": 3,
   "metadata": {
    "collapsed": true
   },
   "outputs": [],
   "source": [
    "#определяем название выходного файла для заведений\n",
    "places_out_file = 'places.csv'\n",
    "\n",
    "#определяем название выходного файла для чекинов\n",
    "checkins_out_file = 'checkins.csv'\n",
    "\n",
    "#определяем название выходного файла для пользователей\n",
    "users_out_file = 'users.csv'\n",
    "\n",
    "#определяем название выходного файла для социального графа\n",
    "friends_out_file = 'friends.csv'\n",
    "\n",
    "#определяем пространственные границы сбора данных\n",
    "bounds = {'lower':{'lat': 59.808311, 'lng': 30.135219}, 'upper':{'lat': 60.087617, 'lng': 30.526297}}\n",
    "\n",
    "#определяем временные границы сбора чекинов"
   ]
  },
  {
   "cell_type": "code",
   "execution_count": null,
   "metadata": {
    "collapsed": true
   },
   "outputs": [],
   "source": [
    "#Папки\n",
    "raw_data = '../../Data/RawData/'\n",
    "processing_data = '../../Data/ProcessingData/'\n",
    "result_data = '../../Data/CleanData/'"
   ]
  },
  {
   "cell_type": "code",
   "execution_count": null,
   "metadata": {
    "collapsed": true
   },
   "outputs": [],
   "source": [
    "#Задаем настройки сессии\n",
    "session = vk.AuthSession('app_id', 'app_secret_key', 'password')\n",
    "vk_api = vk.API(session)"
   ]
  },
  {
   "cell_type": "code",
   "execution_count": null,
   "metadata": {
    "collapsed": true
   },
   "outputs": [],
   "source": [
    "#Запускаем сбор заведений в границах\n",
    "\n",
    "#задать сетку\n",
    "def get_circle_centers(lower, upper, radius):\n",
    "    \"\"\"\n",
    "    cover the search area with circles for radar search\n",
    "    http://stackoverflow.com/questions/7477003/calculating-new-longtitude-latitude-from-old-n-meters\n",
    "    :param lower: lower bound of area (westmost + southmost)\n",
    "    :param upper: upper bound of area (eastmost + northmost)\n",
    "    :param radius: specified radius, adapt for high density areas\n",
    "    :return: list of circle centers that cover the area between lower/upper\n",
    "    \"\"\"\n",
    "    r, coords = 6378, list()\n",
    "    while lower[1] < upper[1]:\n",
    "        tmp = lower[0]\n",
    "\n",
    "        while tmp < upper[0]:\n",
    "            coords.append([tmp, lower[1]])\n",
    "            tmp += (0.25 / r) * (radius / math.pi)\n",
    "        lower[1] += (0.25 / r) * (radius / math.pi) / math.cos(lower[00] * math.pi / radius)\n",
    "\n",
    "    return coords\n",
    "\n",
    "def getPlaces(lat, lon, radius=1, count=1000, offset=0):\n",
    "    if count > 1000:\n",
    "        raise Exception('Bad params: max of count = 1000')\n",
    "        \n",
    "    response = vk_api.places.search(latitude = lat, longitude = lon, radius = radius, count = count, offset = offset)\n",
    "    \n",
    "    return response\n",
    "\n",
    "#TODO писать в файл каждые n итераций\n",
    "def allPlacesOffset(func, func_lat, func_lon):\n",
    "    places = []\n",
    "    place_count = -1\n",
    "    offset = 0\n",
    "    while place_count != len(places):\n",
    "        trottling_request()\n",
    "        \n",
    "        try:\n",
    "            response = func(func_lat, func_lon, radius = 1, count = 1000, offset = offset)\n",
    "        except Exception:\n",
    "            print(\"error\")\n",
    "            time.sleep(1)\n",
    "            continue\n",
    "          \n",
    "        if place_count != response[0]:\n",
    "            place_count = response[0]\n",
    "        \n",
    "        items = response[1:]\n",
    "        offset = offset + len(items)\n",
    "        \n",
    "        places = places + items\n",
    "    \n",
    "    return places"
   ]
  },
  {
   "cell_type": "code",
   "execution_count": null,
   "metadata": {
    "collapsed": true
   },
   "outputs": [],
   "source": [
    "#Запускаем сбор чекинов"
   ]
  },
  {
   "cell_type": "code",
   "execution_count": 4,
   "metadata": {
    "collapsed": true
   },
   "outputs": [],
   "source": [
    "#Запускаем сбор данных пользователей"
   ]
  },
  {
   "cell_type": "code",
   "execution_count": null,
   "metadata": {
    "collapsed": true
   },
   "outputs": [],
   "source": [
    "#Запускаем сбор друзей пользователей"
   ]
  }
 ],
 "metadata": {
  "kernelspec": {
   "display_name": "Python 3",
   "language": "python",
   "name": "python3"
  },
  "language_info": {
   "codemirror_mode": {
    "name": "ipython",
    "version": 3
   },
   "file_extension": ".py",
   "mimetype": "text/x-python",
   "name": "python",
   "nbconvert_exporter": "python",
   "pygments_lexer": "ipython3",
   "version": "3.6.6"
  }
 },
 "nbformat": 4,
 "nbformat_minor": 2
}
