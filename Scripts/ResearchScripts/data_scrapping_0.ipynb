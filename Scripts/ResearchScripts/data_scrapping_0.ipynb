{
 "cells": [
  {
   "cell_type": "code",
   "execution_count": 1,
   "metadata": {
    "collapsed": true
   },
   "outputs": [],
   "source": [
    "#импорт\n",
    "import pandas as pd\n",
    "import requests\n",
    "import json\n",
    "import time\n",
    "import math\n",
    "import vk\n",
    "import collections\n",
    "import os\n",
    "\n",
    "import vkauth\n",
    "#vk_auth.py\n",
    "#auth = {\"id_app\":'' , \"login\":'', \"password\":''}\n",
    "\n",
    "session = vk.AuthSession(vkauth.auth['id_app'], vkauth.auth['login'], vkauth.auth['password'])\n",
    "vk_api = vk.API(session)\n",
    "\n",
    "pd.set_option('display.max_columns', 500)\n",
    "%matplotlib inline"
   ]
  },
  {
   "cell_type": "code",
   "execution_count": 2,
   "metadata": {
    "collapsed": true
   },
   "outputs": [],
   "source": [
    "#logger\n",
    "#TODO дополнительно писать лог в файл\n",
    "#Вывести в отдельный модуль\n",
    "def log_progress(sequence, every=None, size=None):\n",
    "    from ipywidgets import IntProgress, HTML, VBox\n",
    "    from IPython.display import display\n",
    "    \n",
    "    is_iterator = False\n",
    "    if size is None:\n",
    "        try:\n",
    "            size = len(sequence)\n",
    "        except TypeError:\n",
    "            is_iterator = True\n",
    "    if size is not None:\n",
    "        if every is None:\n",
    "            if size <= 200:\n",
    "                every = 1\n",
    "            else:\n",
    "                every = size / 200     # every 0.5%\n",
    "    else:\n",
    "        assert every is not None, 'sequence is iterator, set every'\n",
    "\n",
    "    if is_iterator:\n",
    "        progress = IntProgress(min=0, max=1, value=1)\n",
    "        progress.bar_style = 'info'\n",
    "    else:\n",
    "        progress = IntProgress(min=0, max=size, value=0)\n",
    "    label = HTML()\n",
    "    box = VBox(children=[label, progress])\n",
    "    display(box)\n",
    "    \n",
    "    index = 0\n",
    "    try:\n",
    "        for index, record in enumerate(sequence, 1):\n",
    "            \n",
    "            if index == 1 or index % every == 0:\n",
    "                if is_iterator:\n",
    "                    label.value = '{index} / ?'.format(index=index)\n",
    "                else:\n",
    "                    progress.value = index\n",
    "                    label.value = u'{index} / {size}'.format(\n",
    "                        index=index,\n",
    "                        size=size\n",
    "                    )\n",
    "            yield record\n",
    "    except:\n",
    "        progress.bar_style = 'danger'\n",
    "        raise\n",
    "    else:\n",
    "        progress.bar_style = 'success'\n",
    "        progress.value = index\n",
    "        label.value = str(index or '?')"
   ]
  },
  {
   "cell_type": "code",
   "execution_count": 3,
   "metadata": {
    "collapsed": true
   },
   "outputs": [],
   "source": [
    "#определяем название выходного файла для заведений\n",
    "places_out_file = 'places_fn.csv'\n",
    "\n",
    "#определяем название выходного файла для чекинов\n",
    "checkins_out_file = 'checkins_fn.csv'\n",
    "\n",
    "#определяем название выходного файла для пользователей\n",
    "users_out_file = 'users_fn.csv'\n",
    "\n",
    "#определяем название выходного файла для социального графа\n",
    "friends_out_file = 'friends_fn.csv'\n",
    "\n",
    "#определяем пространственные границы сбора данных\n",
    "bounds = {'lower':{'lat': 59.937557, 'lng': 30.387023}, 'upper':{'lat': 59.942765, 'lng': 30.397724}}\n",
    "\n",
    "#определяем временные границы сбора чекинов"
   ]
  },
  {
   "cell_type": "code",
   "execution_count": 4,
   "metadata": {
    "collapsed": true
   },
   "outputs": [],
   "source": [
    "#Папки\n",
    "raw_data = '../../Data/RawData/'\n",
    "processing_data = '../../Data/ProcessingData/'\n",
    "result_data = '../../Data/CleanData/'"
   ]
  },
  {
   "cell_type": "code",
   "execution_count": 5,
   "metadata": {
    "collapsed": true
   },
   "outputs": [],
   "source": [
    "#Функции сбора заведений\n",
    "\n",
    "deq = collections.deque(maxlen=4)\n",
    "def trottling_request():\n",
    "    deq.appendleft(time.time())\n",
    "    if len(deq) == 4:\n",
    "        # 3 запроса в секунду, если нужно - подождем\n",
    "        time.sleep(max(1+deq[3]-deq[0], 0.5))\n",
    "        \n",
    "\n",
    "#задать сетку\n",
    "def get_circle_centers(lower, upper, radius):\n",
    "    \"\"\"\n",
    "    cover the search area with circles for radar search\n",
    "    http://stackoverflow.com/questions/7477003/calculating-new-longtitude-latitude-from-old-n-meters\n",
    "    :param lower: lower bound of area (westmost + southmost)\n",
    "    :param upper: upper bound of area (eastmost + northmost)\n",
    "    :param radius: specified radius, adapt for high density areas\n",
    "    :return: list of circle centers that cover the area between lower/upper\n",
    "    \"\"\"\n",
    "    r, coords = 6378, list()\n",
    "    while lower[1] < upper[1]:\n",
    "        tmp = lower[0]\n",
    "\n",
    "        while tmp < upper[0]:\n",
    "            coords.append([tmp, lower[1]])\n",
    "            tmp += (0.25 / r) * (radius / math.pi)\n",
    "        lower[1] += (0.25 / r) * (radius / math.pi) / math.cos(lower[00] * math.pi / radius)\n",
    "\n",
    "    return coords\n",
    "\n",
    "def getPlaces(lat, lon, radius=1, count=1000, offset=0):\n",
    "    if count > 1000:\n",
    "        raise Exception('Bad params: max of count = 1000')\n",
    "        \n",
    "    response = vk_api.places.search(latitude = lat, longitude = lon, radius = radius, count = count, offset = offset, version= 5.85)\n",
    "    \n",
    "    return response\n",
    "\n",
    "#TODO писать в файл каждые n итераций\n",
    "def allPlacesOffset(func, func_lat, func_lon):\n",
    "    places = []\n",
    "    place_count = -1\n",
    "    offset = 0\n",
    "    while place_count != len(places):\n",
    "        trottling_request()\n",
    "        \n",
    "        try:\n",
    "            response = func(func_lat, func_lon, radius = 1, count = 1000, offset = offset)\n",
    "        except Exception:\n",
    "            print(\"error\")\n",
    "            time.sleep(1)\n",
    "            continue\n",
    "          \n",
    "        if place_count != response[0]:\n",
    "            place_count = response[0]\n",
    "        \n",
    "        items = response[1:]\n",
    "        offset = offset + len(items)\n",
    "        \n",
    "        places = places + items\n",
    "    \n",
    "    return places"
   ]
  },
  {
   "cell_type": "code",
   "execution_count": 6,
   "metadata": {
    "collapsed": true
   },
   "outputs": [],
   "source": [
    "circles = get_circle_centers([bounds[\"lower\"][\"lat\"], bounds[\"lower\"][\"lng\"]],  # southwest\n",
    "                                       [bounds[\"upper\"][\"lat\"], bounds[\"upper\"][\"lng\"]],  # northeast\n",
    "                                       150)"
   ]
  },
  {
   "cell_type": "code",
   "execution_count": 7,
   "metadata": {},
   "outputs": [
    {
     "data": {
      "application/vnd.jupyter.widget-view+json": {
       "model_id": "5abd8bdfa1c44ea89a0a2bc80e51d653",
       "version_major": 2,
       "version_minor": 0
      },
      "text/html": [
       "<p>Failed to display Jupyter Widget of type <code>VBox</code>.</p>\n",
       "<p>\n",
       "  If you're reading this message in Jupyter Notebook or JupyterLab, it may mean\n",
       "  that the widgets JavaScript is still loading. If this message persists, it\n",
       "  likely means that the widgets JavaScript library is either not installed or\n",
       "  not enabled. See the <a href=\"https://ipywidgets.readthedocs.io/en/stable/user_install.html\">Jupyter\n",
       "  Widgets Documentation</a> for setup instructions.\n",
       "</p>\n",
       "<p>\n",
       "  If you're reading this message in another notebook frontend (for example, a static\n",
       "  rendering on GitHub or <a href=\"https://nbviewer.jupyter.org/\">NBViewer</a>),\n",
       "  it may mean that your frontend doesn't currently support widgets.\n",
       "</p>\n"
      ],
      "text/plain": [
       "VBox(children=(HTML(value=''), IntProgress(value=0, max=6)))"
      ]
     },
     "metadata": {},
     "output_type": "display_data"
    }
   ],
   "source": [
    "all_places = []\n",
    "for lat, lng in log_progress(circles,1):\n",
    "    places = allPlacesOffset(getPlaces, lat, lng)\n",
    "    #Писат сразу в файлик\n",
    "    all_places = all_places + places"
   ]
  },
  {
   "cell_type": "code",
   "execution_count": 11,
   "metadata": {},
   "outputs": [],
   "source": [
    "#save\n",
    "places_df = pd.DataFrame(all_places)\n",
    "places_df.to_csv(raw_data + places_out_file)"
   ]
  },
  {
   "cell_type": "code",
   "execution_count": 12,
   "metadata": {
    "collapsed": true
   },
   "outputs": [],
   "source": [
    "#Запускаем сбор чекинов\n",
    "\n",
    "def getChekinsFromCoords(lat, lng, radius, count = 100, offset = 0):\n",
    "    if count > 100:\n",
    "        raise Exception('Bad params: max of count = 100')\n",
    "    #response = requests.get('{host}/places.getCheckins?latitude={lat}&longitude={lon}&count={count}&offset={offset}&need_places=1'\n",
    "    #                        .format(host=host,lat=lat, lon=lon, count=count, offset=offset))\n",
    "    response = vk_api.places.getCheckins(latitude = lat, longitude = lng, radius = radius, count = count, offset = offset, version = 5.85)\n",
    "    \n",
    "    return response   \n",
    "\n",
    "def getCheckinsFromPlace(place_id, count=100, offset = 0):\n",
    "    #host = 'http://api.vk.com/method'\n",
    "    if count > 100:\n",
    "        raise Exception('Bad params: max of count = 100')\n",
    "    #response = requests.get('{host}/places.getCheckins?latitude={lat}&longitude={lon}&count={count}&offset={offset}&need_places=1'\n",
    "    #                        .format(host=host,lat=lat, lon=lon, count=count, offset=offset))\n",
    "    response = vk_api.places.getCheckins(place = place_id, count = count, offset = offset)\n",
    "    \n",
    "    return response\n",
    "\n",
    "def allChecinsCountOffsetFromCoords(func, lat, lng):\n",
    "    checkins = []\n",
    "    count_checins = -1\n",
    "    offset = 0\n",
    "    while count_checins != len(checkins): # posible endless loop for real vk api\n",
    "        trottling_request()\n",
    "        try:\n",
    "            response = func(lat, lng, radius=1,count=100, offset=offset)\n",
    "        except Exception as e:\n",
    "            print(e)\n",
    "            time.sleep(1)\n",
    "            continue\n",
    "        \n",
    "        if count_checins != response[0]:\n",
    "            count_checins = response[0]\n",
    "        \n",
    "        items = response[1:]\n",
    "        \n",
    "        if len(items) == 0:\n",
    "            return checkins\n",
    "        \n",
    "        offset = offset + len(items)\n",
    "        \n",
    "       \n",
    "        #if dict_checkins | set(new_members_id) == set_members_id != set(): # without new members\n",
    "         #   print('WARNING: break loop', count_members, len(set_members_id))\n",
    "          #  break\n",
    "        \n",
    "        checkins = checkins + items\n",
    "\n",
    "    return checkins\n",
    "\n",
    "def allChecinsCountOffsetFromPlace(func, place_id):\n",
    "    checkins = []\n",
    "    count_checins = -1\n",
    "    offset = 0\n",
    "    while count_checins != len(checkins): # posible endless loop for real vk api\n",
    "        trottling_request()\n",
    "        try:\n",
    "            response = func(place_id,count=100, offset=offset)\n",
    "        except Exception as e:\n",
    "            print(e)\n",
    "            time.sleep(1)\n",
    "            continue\n",
    "        \n",
    "        if count_checins != response[0]:\n",
    "            count_checins = response[0]\n",
    "        \n",
    "        items = response[1:]\n",
    "        \n",
    "        if len(items) == 0:\n",
    "            return checkins\n",
    "        \n",
    "        offset = offset + len(items)\n",
    "        \n",
    "       \n",
    "        #if dict_checkins | set(new_members_id) == set_members_id != set(): # without new members\n",
    "         #   print('WARNING: break loop', count_members, len(set_members_id))\n",
    "          #  break\n",
    "        \n",
    "        checkins = checkins + items\n",
    "\n",
    "    return checkins"
   ]
  },
  {
   "cell_type": "code",
   "execution_count": 13,
   "metadata": {},
   "outputs": [
    {
     "data": {
      "application/vnd.jupyter.widget-view+json": {
       "model_id": "1e9135559bc44b3891054ba6908d84d0",
       "version_major": 2,
       "version_minor": 0
      },
      "text/html": [
       "<p>Failed to display Jupyter Widget of type <code>VBox</code>.</p>\n",
       "<p>\n",
       "  If you're reading this message in Jupyter Notebook or JupyterLab, it may mean\n",
       "  that the widgets JavaScript is still loading. If this message persists, it\n",
       "  likely means that the widgets JavaScript library is either not installed or\n",
       "  not enabled. See the <a href=\"https://ipywidgets.readthedocs.io/en/stable/user_install.html\">Jupyter\n",
       "  Widgets Documentation</a> for setup instructions.\n",
       "</p>\n",
       "<p>\n",
       "  If you're reading this message in another notebook frontend (for example, a static\n",
       "  rendering on GitHub or <a href=\"https://nbviewer.jupyter.org/\">NBViewer</a>),\n",
       "  it may mean that your frontend doesn't currently support widgets.\n",
       "</p>\n"
      ],
      "text/plain": [
       "VBox(children=(HTML(value=''), IntProgress(value=0, max=6)))"
      ]
     },
     "metadata": {},
     "output_type": "display_data"
    }
   ],
   "source": [
    "all_checkins = []\n",
    "for lat, lng in log_progress(circles,1):\n",
    "    checkins = allChecinsCountOffsetFromCoords(getChekinsFromCoords, lat, lng)\n",
    "    all_checkins = all_checkins + checkins"
   ]
  },
  {
   "cell_type": "code",
   "execution_count": 15,
   "metadata": {},
   "outputs": [],
   "source": [
    "#save chekins\n",
    "checkins_df = pd.DataFrame(all_checkins)\n",
    "checkins_df.to_csv(raw_data + checkins_out_file)"
   ]
  },
  {
   "cell_type": "code",
   "execution_count": null,
   "metadata": {
    "collapsed": true
   },
   "outputs": [],
   "source": [
    "#скачать информацию по пользвателям\n",
    "\n"
   ]
  },
  {
   "cell_type": "code",
   "execution_count": null,
   "metadata": {
    "collapsed": true
   },
   "outputs": [],
   "source": []
  }
 ],
 "metadata": {
  "kernelspec": {
   "display_name": "Python 3",
   "language": "python",
   "name": "python3"
  },
  "language_info": {
   "codemirror_mode": {
    "name": "ipython",
    "version": 3
   },
   "file_extension": ".py",
   "mimetype": "text/x-python",
   "name": "python",
   "nbconvert_exporter": "python",
   "pygments_lexer": "ipython3",
   "version": "3.6.6"
  }
 },
 "nbformat": 4,
 "nbformat_minor": 2
}
